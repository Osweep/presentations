{
 "cells": [
  {
   "cell_type": "markdown",
   "id": "e44f67f8-c3f4-4244-901e-c1389a6a9771",
   "metadata": {
    "microsoft": {
     "language": "python",
     "language_group": "synapse_pyspark"
    },
    "nteract": {
     "transient": {
      "deleting": false
     }
    }
   },
   "source": []
  },
  {
   "cell_type": "markdown",
   "id": "6e533057-d8a3-4139-b6e0-5a6519d88716",
   "metadata": {
    "microsoft": {
     "language": "python",
     "language_group": "synapse_pyspark"
    },
    "nteract": {
     "transient": {
      "deleting": false
     }
    }
   },
   "source": [
    "# SQL like transformations in PySpark?"
   ]
  },
  {
   "cell_type": "code",
   "execution_count": 1,
   "id": "73d18ea3-5725-438c-bec2-5a767d99ec8a",
   "metadata": {
    "microsoft": {
     "language": "python",
     "language_group": "synapse_pyspark"
    }
   },
   "outputs": [
    {
     "data": {
      "application/vnd.livy.statement-meta+json": {
       "execution_finish_time": "2025-03-18T17:12:04.5655618Z",
       "execution_start_time": "2025-03-18T17:12:03.8112566Z",
       "livy_statement_state": "available",
       "normalized_state": "finished",
       "parent_msg_id": "f0fbb6df-93c1-4665-bbe3-362e4665fdff",
       "queued_time": "2025-03-18T17:11:54.6361497Z",
       "session_id": "2d3d76f1-fe69-4316-a962-fdd50b358227",
       "session_start_time": null,
       "spark_pool": null,
       "state": "finished",
       "statement_id": 3,
       "statement_ids": [
        3
       ]
      },
      "text/plain": [
       "StatementMeta(, 2d3d76f1-fe69-4316-a962-fdd50b358227, 3, Finished, Available, Finished)"
      ]
     },
     "metadata": {},
     "output_type": "display_data"
    }
   ],
   "source": [
    "import pyspark.sql.functions as F\n",
    "import pyspark.sql.types as T"
   ]
  },
  {
   "cell_type": "code",
   "execution_count": 2,
   "id": "c0c8964a-b0c6-469e-9a59-f4f93acc7d66",
   "metadata": {
    "microsoft": {
     "language": "python",
     "language_group": "synapse_pyspark"
    }
   },
   "outputs": [
    {
     "data": {
      "application/vnd.livy.statement-meta+json": {
       "execution_finish_time": "2025-03-16T11:39:11.5571629Z",
       "execution_start_time": "2025-03-16T11:39:07.6319876Z",
       "livy_statement_state": "available",
       "normalized_state": "finished",
       "parent_msg_id": "696aa85b-1070-44a5-9502-82a92b7690de",
       "queued_time": "2025-03-16T11:38:56.6389203Z",
       "session_id": "ceabf8ee-9120-490b-ba02-a6a91e2b3c02",
       "session_start_time": null,
       "spark_pool": null,
       "state": "finished",
       "statement_id": 4,
       "statement_ids": [
        4
       ]
      },
      "text/plain": [
       "StatementMeta(, ceabf8ee-9120-490b-ba02-a6a91e2b3c02, 4, Finished, Available, Finished)"
      ]
     },
     "metadata": {},
     "output_type": "display_data"
    }
   ],
   "source": [
    "df = spark.read.format(\"Delta\").load(\"abfss://<workspace_id>@onelake.dfs.fabric.microsoft.com/<lakehouse_id>/Tables/taxidata\")"
   ]
  },
  {
   "cell_type": "code",
   "execution_count": 3,
   "id": "41f8d98b-580e-42a8-84af-1016f5c5f8b3",
   "metadata": {
    "collapsed": false,
    "microsoft": {
     "language": "python",
     "language_group": "synapse_pyspark"
    }
   },
   "outputs": [
    {
     "data": {
      "application/vnd.livy.statement-meta+json": {
       "execution_finish_time": "2025-03-16T11:39:11.986438Z",
       "execution_start_time": "2025-03-16T11:39:11.5640928Z",
       "livy_statement_state": "available",
       "normalized_state": "finished",
       "parent_msg_id": "61ae1c89-0aea-4fe3-a998-3708d6a56e37",
       "queued_time": "2025-03-16T11:38:56.7005629Z",
       "session_id": "ceabf8ee-9120-490b-ba02-a6a91e2b3c02",
       "session_start_time": null,
       "spark_pool": null,
       "state": "finished",
       "statement_id": 5,
       "statement_ids": [
        5
       ]
      },
      "text/plain": [
       "StatementMeta(, ceabf8ee-9120-490b-ba02-a6a91e2b3c02, 5, Finished, Available, Finished)"
      ]
     },
     "metadata": {},
     "output_type": "display_data"
    }
   ],
   "source": [
    "df = (df.withColumn(\"PickUpDate\"            ,df[\"lpepPickupDatetime\"].cast(T.DateType()))\n",
    "        .withColumn(\"tripDistanceRounded\"   ,F.ceil(df[\"tripDistance\"]))\n",
    "        .withColumn(\"passengerCategory\"     ,F.when(df[\"passengerCount\"] == 1, \"Single person\").otherwise(\"Multiple people\"))\n",
    "        )"
   ]
  },
  {
   "cell_type": "code",
   "execution_count": null,
   "id": "1429bebc-2179-40cd-916a-3f6198af4512",
   "metadata": {
    "collapsed": false,
    "microsoft": {
     "language": "python",
     "language_group": "synapse_pyspark"
    }
   },
   "outputs": [],
   "source": [
    "display(df)"
   ]
  },
  {
   "cell_type": "code",
   "execution_count": null,
   "id": "9104fdb1-506c-42cb-adce-75ee3957ddb9",
   "metadata": {
    "collapsed": false,
    "microsoft": {
     "language": "python",
     "language_group": "synapse_pyspark"
    }
   },
   "outputs": [],
   "source": [
    "display(df.filter(\"passengerCategory == 'Multiple people'\"))"
   ]
  },
  {
   "cell_type": "code",
   "execution_count": 6,
   "id": "35c6bfff-f47e-4792-b059-95f81bbab71d",
   "metadata": {
    "microsoft": {
     "language": "python",
     "language_group": "synapse_pyspark"
    }
   },
   "outputs": [
    {
     "data": {
      "application/vnd.livy.statement-meta+json": {
       "execution_finish_time": "2025-03-16T11:41:11.4489908Z",
       "execution_start_time": "2025-03-16T11:39:22.4855136Z",
       "livy_statement_state": "available",
       "normalized_state": "finished",
       "parent_msg_id": "f1af7440-5b7b-4761-94b0-25356056be99",
       "queued_time": "2025-03-16T11:38:56.9954798Z",
       "session_id": "ceabf8ee-9120-490b-ba02-a6a91e2b3c02",
       "session_start_time": null,
       "spark_pool": null,
       "state": "finished",
       "statement_id": 8,
       "statement_ids": [
        8
       ]
      },
      "text/plain": [
       "StatementMeta(, ceabf8ee-9120-490b-ba02-a6a91e2b3c02, 8, Finished, Available, Finished)"
      ]
     },
     "metadata": {},
     "output_type": "display_data"
    }
   ],
   "source": [
    "df.write.mode(\"overwrite\").option(\"overwriteSchema\",\"true\").save(\"abfss://<workspace_id>@onelake.dfs.fabric.microsoft.com/<lakehouse_id>/Tables/taxidata_transformed\")"
   ]
  }
 ],
 "metadata": {
  "dependencies": {
   "lakehouse": {}
  },
  "kernel_info": {
   "name": "synapse_pyspark"
  },
  "kernelspec": {
   "display_name": "synapse_pyspark",
   "name": "synapse_pyspark"
  },
  "language_info": {
   "name": "python"
  },
  "microsoft": {
   "language": "python",
   "language_group": "synapse_pyspark",
   "ms_spell_check": {
    "ms_spell_check_language": "en"
   }
  },
  "nteract": {
   "version": "nteract-front-end@1.0.0"
  },
  "spark_compute": {
   "compute_id": "/trident/default",
   "session_options": {
    "conf": {
     "spark.synapse.nbs.session.timeout": "1200000"
    }
   }
  },
  "synapse_widget": {
   "state": {},
   "version": "0.1"
  }
 },
 "nbformat": 4,
 "nbformat_minor": 5
}
