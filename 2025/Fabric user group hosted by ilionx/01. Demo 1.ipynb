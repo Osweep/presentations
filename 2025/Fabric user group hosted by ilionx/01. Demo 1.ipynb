{
 "cells": [
  {
   "cell_type": "code",
   "execution_count": null,
   "id": "db47a0ce-5e74-4e9c-8f5c-e58ea41c7cf2",
   "metadata": {
    "collapsed": false,
    "microsoft": {
     "language": "python",
     "language_group": "synapse_pyspark"
    }
   },
   "outputs": [],
   "source": [
    "from delta.tables import DeltaTable\n",
    "# Welcome to your new notebook\n",
    "# Type here in the cell editor to add code!\n",
    "display(spark.read.format(\"Delta\").load(\"abfss://<workspace_id>@onelake.dfs.fabric.microsoft.com/<lakehouse_id>/Tables/taxidata\"))\n",
    "\n",
    "\n",
    "DeltaTable.forPath(spark,\"abfss://<workspace_id>@onelake.dfs.fabric.microsoft.com/<lakehouse_id>/Tables/taxidata\").vacuum(retentionHours=168)\n"
   ]
  },
  {
   "cell_type": "markdown",
   "id": "ed03572a-f2d7-4420-974b-91985c9d4d17",
   "metadata": {
    "microsoft": {
     "language": "python",
     "language_group": "synapse_pyspark"
    },
    "nteract": {
     "transient": {
      "deleting": false
     }
    }
   },
   "source": [
    "# DRY: Do not repeat yourself"
   ]
  },
  {
   "cell_type": "code",
   "execution_count": 2,
   "id": "d12714f1-2e0b-4e99-b79c-5dd1136b8c58",
   "metadata": {
    "microsoft": {
     "language": "python",
     "language_group": "synapse_pyspark"
    }
   },
   "outputs": [
    {
     "data": {
      "application/vnd.livy.statement-meta+json": {
       "execution_finish_time": "2025-03-18T17:17:59.6155294Z",
       "execution_start_time": "2025-03-18T17:17:59.2269427Z",
       "livy_statement_state": "available",
       "normalized_state": "finished",
       "parent_msg_id": "10519758-577d-4bfe-ad5c-e03924c8e691",
       "queued_time": "2025-03-18T17:17:41.626106Z",
       "session_id": "2d3d76f1-fe69-4316-a962-fdd50b358227",
       "session_start_time": null,
       "spark_pool": null,
       "state": "finished",
       "statement_id": 7,
       "statement_ids": [
        7
       ]
      },
      "text/plain": [
       "StatementMeta(, 2d3d76f1-fe69-4316-a962-fdd50b358227, 7, Finished, Available, Finished)"
      ]
     },
     "metadata": {},
     "output_type": "display_data"
    }
   ],
   "source": [
    "path = \"abfss://<workspace_id>@onelake.dfs.fabric.microsoft.com/<lakehouse_id>/Tables/taxidata\""
   ]
  },
  {
   "cell_type": "code",
   "execution_count": null,
   "id": "0baaddb5-1f48-4cda-abdf-40b8c4e1e5d5",
   "metadata": {
    "collapsed": false,
    "microsoft": {
     "language": "python",
     "language_group": "synapse_pyspark"
    }
   },
   "outputs": [],
   "source": [
    "display(spark.read.format(\"Delta\").load(path))"
   ]
  },
  {
   "cell_type": "code",
   "execution_count": 4,
   "id": "8731871d-4128-4918-8723-eb943995e685",
   "metadata": {
    "microsoft": {
     "language": "python",
     "language_group": "synapse_pyspark"
    }
   },
   "outputs": [
    {
     "data": {
      "application/vnd.livy.statement-meta+json": {
       "execution_finish_time": "2025-03-18T17:18:24.3434568Z",
       "execution_start_time": "2025-03-18T17:18:17.962686Z",
       "livy_statement_state": "available",
       "normalized_state": "finished",
       "parent_msg_id": "9d8bbf40-7a8f-44a9-acc5-255f28c0aa4f",
       "queued_time": "2025-03-18T17:18:17.9610697Z",
       "session_id": "2d3d76f1-fe69-4316-a962-fdd50b358227",
       "session_start_time": null,
       "spark_pool": null,
       "state": "finished",
       "statement_id": 9,
       "statement_ids": [
        9
       ]
      },
      "text/plain": [
       "StatementMeta(, 2d3d76f1-fe69-4316-a962-fdd50b358227, 9, Finished, Available, Finished)"
      ]
     },
     "metadata": {},
     "output_type": "display_data"
    },
    {
     "data": {
      "text/plain": [
       "DataFrame[]"
      ]
     },
     "execution_count": 21,
     "metadata": {},
     "output_type": "execute_result"
    }
   ],
   "source": [
    "DeltaTable.forPath(spark,path).vacuum(retentionHours=168)"
   ]
  },
  {
   "cell_type": "markdown",
   "id": "a6439b55-0716-420e-848a-6931db7d3c77",
   "metadata": {
    "microsoft": {
     "language": "python",
     "language_group": "synapse_pyspark"
    },
    "nteract": {
     "transient": {
      "deleting": false
     }
    }
   },
   "source": [
    "# What about the next delta table? "
   ]
  },
  {
   "cell_type": "code",
   "execution_count": 6,
   "id": "30b65ebb-5a70-414c-a5f3-d65f2f62a963",
   "metadata": {
    "microsoft": {
     "language": "python",
     "language_group": "synapse_pyspark"
    }
   },
   "outputs": [
    {
     "data": {
      "application/vnd.livy.statement-meta+json": {
       "execution_finish_time": "2025-03-18T07:32:09.3495711Z",
       "execution_start_time": "2025-03-18T07:32:08.9368274Z",
       "livy_statement_state": "available",
       "normalized_state": "finished",
       "parent_msg_id": "5b25574b-f9be-45f1-82a6-9ae7072e5167",
       "queued_time": "2025-03-18T07:31:40.9918402Z",
       "session_id": "0dc45816-9bd6-4f87-9570-4dceaea93f49",
       "session_start_time": null,
       "spark_pool": null,
       "state": "finished",
       "statement_id": 8,
       "statement_ids": [
        8
       ]
      },
      "text/plain": [
       "StatementMeta(, 0dc45816-9bd6-4f87-9570-4dceaea93f49, 8, Finished, Available, Finished)"
      ]
     },
     "metadata": {},
     "output_type": "display_data"
    }
   ],
   "source": [
    "path_2 = \"abfss://<workspace_id>@onelake.dfs.fabric.microsoft.com/<lakehouse_id>/Tables/publicholidays\" "
   ]
  },
  {
   "cell_type": "code",
   "execution_count": 7,
   "id": "19ab599a-51cb-4eb2-a200-9ad052dd4be7",
   "metadata": {
    "microsoft": {
     "language": "python",
     "language_group": "synapse_pyspark"
    }
   },
   "outputs": [
    {
     "data": {
      "application/vnd.livy.statement-meta+json": {
       "execution_finish_time": "2025-03-18T07:32:09.7373215Z",
       "execution_start_time": "2025-03-18T07:32:09.3521697Z",
       "livy_statement_state": "available",
       "normalized_state": "finished",
       "parent_msg_id": "a0db28b2-35b5-43ca-a63e-735b87a15666",
       "queued_time": "2025-03-18T07:31:41.0936433Z",
       "session_id": "0dc45816-9bd6-4f87-9570-4dceaea93f49",
       "session_start_time": null,
       "spark_pool": null,
       "state": "finished",
       "statement_id": 9,
       "statement_ids": [
        9
       ]
      },
      "text/plain": [
       "StatementMeta(, 0dc45816-9bd6-4f87-9570-4dceaea93f49, 9, Finished, Available, Finished)"
      ]
     },
     "metadata": {},
     "output_type": "display_data"
    }
   ],
   "source": [
    "def fnc_get_abfss_path(name:str):\n",
    "    return f\"abfss://<workspace_id>@onelake.dfs.fabric.microsoft.com/<lakehouse_id>/Tables/{name}\""
   ]
  },
  {
   "cell_type": "markdown",
   "id": "d548b0d4-fbea-4e95-abb9-0ea8ed561fe3",
   "metadata": {
    "microsoft": {
     "language": "python",
     "language_group": "synapse_pyspark"
    },
    "nteract": {
     "transient": {
      "deleting": false
     }
    }
   },
   "source": [
    "# What about the next workspace or lakehouse?"
   ]
  },
  {
   "cell_type": "code",
   "execution_count": 5,
   "id": "e6dbb06a-712c-47ac-8fe5-c50528959137",
   "metadata": {
    "microsoft": {
     "language": "python",
     "language_group": "synapse_pyspark"
    }
   },
   "outputs": [
    {
     "data": {
      "application/vnd.livy.statement-meta+json": {
       "execution_finish_time": "2025-03-18T17:19:31.7547764Z",
       "execution_start_time": "2025-03-18T17:19:22.213411Z",
       "livy_statement_state": "available",
       "normalized_state": "finished",
       "parent_msg_id": "8f421f46-22bb-4240-9a03-956bc767faef",
       "queued_time": "2025-03-18T17:19:22.2117731Z",
       "session_id": "2d3d76f1-fe69-4316-a962-fdd50b358227",
       "session_start_time": null,
       "spark_pool": null,
       "state": "finished",
       "statement_id": 10,
       "statement_ids": [
        10
       ]
      },
      "text/plain": [
       "StatementMeta(, 2d3d76f1-fe69-4316-a962-fdd50b358227, 10, Finished, Available, Finished)"
      ]
     },
     "metadata": {},
     "output_type": "display_data"
    }
   ],
   "source": [
    "import sempy.fabric as fabric\n",
    "def fnc_get_abfss_path(name:str)->str:\n",
    "    \"\"\"\n",
    "    Generates the ABFSS path for a Delta table in the current Microsoft Fabric workspace and lakehouse.\n",
    "\n",
    "    This function retrieves the workspace ID and the first available lakehouse ID in the environment,  \n",
    "    then constructs the full ABFSS path to access a specified Delta table.\n",
    "\n",
    "    :param name: The name of the Delta table.\n",
    "    :return: The ABFSS path to the specified Delta table as a string.\n",
    "\n",
    "    Example:\n",
    "        >>> fnc_get_abfss_path(\"sales_data\")\n",
    "        'abfss://<workspace_id>@onelake.dfs.fabric.microsoft.com/<lakehouse_id>/Tables/sales_data'\n",
    "\n",
    "    Note:\n",
    "    - The function assumes that at least one lakehouse exists in the workspace.\n",
    "    - If multiple lakehouses exist, it selects the first one returned by `fabric.list_items(\"Lakehouse\")`.\n",
    "    \"\"\"\n",
    "    workspace_id = fabric.get_workspace_id()\n",
    "    lakehouse_id = fabric.list_items(\"Lakehouse\")[\"Id\"][0]\n",
    "    return f\"abfss://{workspace_id}@onelake.dfs.fabric.microsoft.com/{lakehouse_id}/Tables/{name}\""
   ]
  },
  {
   "cell_type": "code",
   "execution_count": 6,
   "id": "e34af418-74f3-4f64-afe9-90a5bc7566d7",
   "metadata": {
    "microsoft": {
     "language": "python",
     "language_group": "synapse_pyspark"
    }
   },
   "outputs": [
    {
     "data": {
      "application/vnd.livy.statement-meta+json": {
       "execution_finish_time": "2025-03-18T17:20:09.6931374Z",
       "execution_start_time": "2025-03-18T17:20:04.9692979Z",
       "livy_statement_state": "available",
       "normalized_state": "finished",
       "parent_msg_id": "8581dca0-fec1-43ed-bfb4-981aaf15d5e3",
       "queued_time": "2025-03-18T17:20:04.9677451Z",
       "session_id": "2d3d76f1-fe69-4316-a962-fdd50b358227",
       "session_start_time": null,
       "spark_pool": null,
       "state": "finished",
       "statement_id": 11,
       "statement_ids": [
        11
       ]
      },
      "text/plain": [
       "StatementMeta(, 2d3d76f1-fe69-4316-a962-fdd50b358227, 11, Finished, Available, Finished)"
      ]
     },
     "metadata": {},
     "output_type": "display_data"
    },
    {
     "name": "stdout",
     "output_type": "stream",
     "text": [
      "abfss://<workspace_id>@onelake.dfs.fabric.microsoft.com/<lakehouse_id>/Tables/publicholidays\n",
      "abfss://<workspace_id>@onelake.dfs.fabric.microsoft.com/<lakehouse_id>/Tables/taxidata\n"
     ]
    }
   ],
   "source": [
    "print(fnc_get_abfss_path(\"publicholidays\"))\n",
    "print(fnc_get_abfss_path(\"taxidata\"))"
   ]
  },
  {
   "cell_type": "code",
   "execution_count": 10,
   "id": "684c410d-e866-4f52-86b4-a7af57baa7bd",
   "metadata": {
    "collapsed": false,
    "microsoft": {
     "language": "python",
     "language_group": "synapse_pyspark"
    }
   },
   "outputs": [
    {
     "data": {
      "text/plain": [
       "DataFrame[]"
      ]
     },
     "execution_count": 45,
     "metadata": {},
     "output_type": "execute_result"
    }
   ],
   "source": [
    "display(spark.read.format(\"Delta\").load(fnc_get_abfss_path(\"publicholidays\")))\n",
    "DeltaTable.forPath(spark,fnc_get_abfss_path(\"publicholidays\")).vacuum(retentionHours=168)"
   ]
  },
  {
   "cell_type": "markdown",
   "id": "7bd3087d-d1b7-4cf9-a845-b541e2c0e587",
   "metadata": {
    "microsoft": {
     "language": "python",
     "language_group": "synapse_pyspark"
    },
    "nteract": {
     "transient": {
      "deleting": false
     }
    }
   },
   "source": [
    "# What about the next notebook?"
   ]
  }
 ],
 "metadata": {
  "dependencies": {},
  "kernel_info": {
   "name": "synapse_pyspark"
  },
  "kernelspec": {
   "display_name": "synapse_pyspark",
   "name": "synapse_pyspark"
  },
  "language_info": {
   "name": "python"
  },
  "microsoft": {
   "language": "python",
   "language_group": "synapse_pyspark",
   "ms_spell_check": {
    "ms_spell_check_language": "en"
   }
  },
  "nteract": {
   "version": "nteract-front-end@1.0.0"
  },
  "spark_compute": {
   "compute_id": "/trident/default",
   "session_options": {
    "conf": {
     "spark.synapse.nbs.session.timeout": "1200000"
    }
   }
  },
  "synapse_widget": {
   "state": {},
   "version": "0.1"
  }
 },
 "nbformat": 4,
 "nbformat_minor": 5
}
