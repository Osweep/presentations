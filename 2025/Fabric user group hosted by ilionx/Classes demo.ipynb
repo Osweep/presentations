{
	"cells": [
		{
			"cell_type": "markdown",
			"source": [
				"# Lets run the reference Notebook"
			],
			"metadata": {
				"nteract": {
					"transient": {
						"deleting": false
					}
				},
				"microsoft": {
					"language": "python",
					"language_group": "synapse_pyspark"
				}
			},
			"id": "adda8e01-e8d0-4509-a48e-1d7f1efebc5b"
		},
		{
			"cell_type": "code",
			"source": [
				"import sempy.fabric as fabric\n",
				"workspace_id = fabric.get_workspace_id() \n",
				"lakehouse_id = fabric.list_items(\"Lakehouse\")[\"Id\"][0]"
			],
			"outputs": [
				{
					"output_type": "display_data",
					"data": {
						"application/vnd.livy.statement-meta+json": {
							"spark_pool": null,
							"statement_id": 14,
							"statement_ids": [
								14
							],
							"state": "finished",
							"livy_statement_state": "available",
							"session_id": "2d3d76f1-fe69-4316-a962-fdd50b358227",
							"normalized_state": "finished",
							"queued_time": "2025-03-18T17:27:39.787298Z",
							"session_start_time": null,
							"execution_start_time": "2025-03-18T17:27:45.6774458Z",
							"execution_finish_time": "2025-03-18T17:27:48.2990255Z",
							"parent_msg_id": "3c853571-8685-463d-af01-42de7fb4374e"
						},
						"text/plain": "StatementMeta(, 2d3d76f1-fe69-4316-a962-fdd50b358227, 14, Finished, Available, Finished)"
					},
					"metadata": {}
				}
			],
			"execution_count": 1,
			"metadata": {
				"microsoft": {
					"language": "python",
					"language_group": "synapse_pyspark"
				}
			},
			"id": "d63e2f5d-d0a1-48bc-add4-0c16f9a41425"
		},
		{
			"cell_type": "code",
			"source": [
				"%run Classes reference"
			],
			"outputs": [
				{
					"output_type": "display_data",
					"data": {
						"application/vnd.livy.statement-meta+json": {
							"spark_pool": null,
							"statement_id": 15,
							"statement_ids": [
								15
							],
							"state": "finished",
							"livy_statement_state": "available",
							"session_id": "2d3d76f1-fe69-4316-a962-fdd50b358227",
							"normalized_state": "finished",
							"queued_time": "2025-03-18T17:27:49.9637484Z",
							"session_start_time": null,
							"execution_start_time": "2025-03-18T17:27:50.4791797Z",
							"execution_finish_time": "2025-03-18T17:27:50.7089124Z",
							"parent_msg_id": "556d1c1e-e4e2-4e75-a374-0e923fc9b49f"
						},
						"text/plain": "StatementMeta(, 2d3d76f1-fe69-4316-a962-fdd50b358227, 15, Finished, Available, Finished)"
					},
					"metadata": {}
				}
			],
			"execution_count": 2,
			"metadata": {
				"microsoft": {
					"language": "python",
					"language_group": "synapse_pyspark"
				}
			},
			"id": "e5631dfb-c135-43c7-b83e-b61519220c1e"
		},
		{
			"cell_type": "code",
			"source": [
				"taxidata_table = FabricTable(name=\"taxidata\",workspace_id=workspace_id,lakehouse_id=lakehouse_id)\n",
				"\n",
				"print(taxidata_table.get_path())\n",
				"display(spark.read.format(\"Delta\").load(taxidata_table.get_path()))"
			],
			"outputs": [
				{
					"output_type": "display_data",
					"data": {
						"application/vnd.livy.statement-meta+json": {
							"spark_pool": null,
							"statement_id": 16,
							"statement_ids": [
								16
							],
							"state": "finished",
							"livy_statement_state": "available",
							"session_id": "2d3d76f1-fe69-4316-a962-fdd50b358227",
							"normalized_state": "finished",
							"queued_time": "2025-03-18T17:27:53.0404458Z",
							"session_start_time": null,
							"execution_start_time": "2025-03-18T17:27:53.0420675Z",
							"execution_finish_time": "2025-03-18T17:27:55.5301557Z",
							"parent_msg_id": "9659675a-39a9-4f3a-a217-0e37b78f2064"
						},
						"text/plain": "StatementMeta(, 2d3d76f1-fe69-4316-a962-fdd50b358227, 16, Finished, Available, Finished)"
					},
					"metadata": {}
				},
				{
					"output_type": "stream",
					"name": "stdout",
					"text": [
						"abfss://f1db2fd4-9837-42de-bbbd-0d47c3a288ed@onelake.dfs.fabric.microsoft.com/bdab4126-fc84-4051-8bf9-995342c8d369/Tables/taxidata\n"
					]
				},
				{
					"output_type": "display_data",
					"data": {
						"application/vnd.synapse.widget-view+json": {
							"widget_id": "7e1a2be9-1b18-4c16-9f16-754d256527a2",
							"widget_type": "Synapse.DataFrame"
						},
						"text/plain": "SynapseWidget(Synapse.DataFrame, 7e1a2be9-1b18-4c16-9f16-754d256527a2)"
					},
					"metadata": {}
				}
			],
			"execution_count": 3,
			"metadata": {
				"microsoft": {
					"language": "python",
					"language_group": "synapse_pyspark"
				},
				"collapsed": false
			},
			"id": "23a0d0e7-2611-47e4-ac15-3b856d799ef2"
		},
		{
			"cell_type": "code",
			"source": [
				"taxidata_table.describe()"
			],
			"outputs": [
				{
					"output_type": "display_data",
					"data": {
						"application/vnd.livy.statement-meta+json": {
							"spark_pool": null,
							"statement_id": 17,
							"statement_ids": [
								17
							],
							"state": "finished",
							"livy_statement_state": "available",
							"session_id": "2d3d76f1-fe69-4316-a962-fdd50b358227",
							"normalized_state": "finished",
							"queued_time": "2025-03-18T17:28:22.8498238Z",
							"session_start_time": null,
							"execution_start_time": "2025-03-18T17:28:22.8513901Z",
							"execution_finish_time": "2025-03-18T17:28:23.7451961Z",
							"parent_msg_id": "1fa5dff2-d9fd-4374-adf9-5421e11b5d4c"
						},
						"text/plain": "StatementMeta(, 2d3d76f1-fe69-4316-a962-fdd50b358227, 17, Finished, Available, Finished)"
					},
					"metadata": {}
				},
				{
					"output_type": "stream",
					"name": "stdout",
					"text": [
						"Table schema:\nStructType([StructField('vendorID', IntegerType(), True), StructField('lpepPickupDatetime', TimestampType(), True), StructField('lpepDropoffDatetime', TimestampType(), True), StructField('passengerCount', IntegerType(), True), StructField('tripDistance', DoubleType(), True), StructField('puLocationId', StringType(), True), StructField('doLocationId', StringType(), True), StructField('pickupLongitude', DoubleType(), True), StructField('pickupLatitude', DoubleType(), True), StructField('dropoffLongitude', DoubleType(), True), StructField('dropoffLatitude', DoubleType(), True), StructField('rateCodeID', IntegerType(), True), StructField('storeAndFwdFlag', StringType(), True), StructField('paymentType', IntegerType(), True), StructField('fareAmount', DoubleType(), True), StructField('extra', DoubleType(), True), StructField('mtaTax', DoubleType(), True), StructField('improvementSurcharge', StringType(), True), StructField('tipAmount', DoubleType(), True), StructField('tollsAmount', DoubleType(), True), StructField('ehailFee', DoubleType(), True), StructField('totalAmount', DoubleType(), True), StructField('tripType', IntegerType(), True)])\n"
					]
				}
			],
			"execution_count": 4,
			"metadata": {
				"microsoft": {
					"language": "python",
					"language_group": "synapse_pyspark"
				}
			},
			"id": "239f8b1a-bf3a-48f5-acde-2e7d14b12be7"
		}
	],
	"metadata": {
		"language_info": {
			"name": "python"
		},
		"kernelspec": {
			"name": "synapse_pyspark",
			"language": "Python",
			"display_name": "Synapse PySpark"
		},
		"kernel_info": {
			"name": "synapse_pyspark"
		},
		"microsoft": {
			"language": "python",
			"language_group": "synapse_pyspark",
			"ms_spell_check": {
				"ms_spell_check_language": "en"
			}
		},
		"spark_compute": {
			"compute_id": "/trident/default",
			"session_options": {
				"conf": {
					"spark.synapse.nbs.session.timeout": "1200000"
				}
			}
		},
		"dependencies": {
			"lakehouse": {},
			"environment": {}
		}
	},
	"nbformat": 4,
	"nbformat_minor": 5
}